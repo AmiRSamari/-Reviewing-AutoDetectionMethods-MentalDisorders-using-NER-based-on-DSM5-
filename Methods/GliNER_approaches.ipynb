{
  "cells": [
    {
      "cell_type": "markdown",
      "metadata": {
        "id": "KIcQzP9-PNle"
      },
      "source": [
        "#Example1) GliNER and spaCy [Gliner_Spacy library] - Zero Shot NER\n",
        "\n",
        "model: `en_core_web_lg`"
      ]
    },
    {
      "cell_type": "code",
      "source": [
        "text = \"\"\"\n",
        "Manic episodes with irritable mood or mixed episodes. Major depressive episodes with prominent irritable mood may be difficult to distinguish from manic episodes with irritable mood or from mixed episodes. This distinction requires a careful clinical evaluation of the presence of manic symptoms.\n",
        "Mood disorder due to another medical condition. A major depressive episode is the appropriate diagnosis if the mood disturbance is not judged, based on individual history, physical examination, and laboratory findings, to be the direct pathophysiological consequence of a specific medical condition (e.g., multiple sclerosis, stroke, hypothyroidism).\n",
        "Substance/medication-induced depressive or bipolar disorder. This disorder is distinguished from major depressive disorder by the fact that a substance (e.g., a drug of abuse, a medication, a toxin) appears to be etiologically related to the mood disturbance. For example, depressed mood that occurs only in the context of withdrawal from cocaine would be diagnosed as cocaine-induced depressive disorder.\n",
        "Attention-deficit/hyperactivity disorder. Distractibility and low frustration tolerance can occur in both attention-deficit/ hyperactivity disorder and a major depressive episode; if the criteria are met for both, attention-deficit/hyperactivity disorder may be diagnosed in addition to the mood disorder. However, the clinician must be cautious not to overdiagnose a major depressive episode in children with attention-deficit/hyperactivity disorder whose disturbance in mood is characterized by irritability rather than by sadness or loss of interest.\n",
        "Adjustment disorder with depressed mood. A major depressive episode that occurs in response to a psychosocial stressor is distinguished from adjustment disorder with depressed mood by the fact that the full criteria for a major depressive episode are not met in adjustment disorder.\n",
        "Sadness. Finally, periods of sadness are inherent aspects of the human experience. These periods should not be diagnosed as a major depressive episode unless criteria are met for severity (i.e., five out of nine symptoms), duration (i.e., most of the day, nearly every day for at least 2 weeks), and clinically significant distress or impairment. The diagnosis other specified depressive disorder may be appropriate for presentations of depressed mood with clinically significant impairment that do not meet criteria for duration or severity\n",
        "\n",
        "\"\"\""
      ],
      "metadata": {
        "id": "SvxMIY8ZBQkX"
      },
      "execution_count": null,
      "outputs": []
    },
    {
      "cell_type": "code",
      "execution_count": null,
      "metadata": {
        "collapsed": true,
        "id": "Qkq5p8KCBBDy"
      },
      "outputs": [],
      "source": [
        "!pip install gliner-spacy"
      ]
    },
    {
      "cell_type": "code",
      "execution_count": null,
      "metadata": {
        "id": "DO0qzXA89gyy"
      },
      "outputs": [],
      "source": [
        "import spacy\n",
        "from gliner_spacy.pipeline import GlinerSpacy"
      ]
    },
    {
      "cell_type": "code",
      "source": [
        "!python -m spacy download en_core_web_lg"
      ],
      "metadata": {
        "collapsed": true,
        "id": "iw55a-FY4q3m"
      },
      "execution_count": null,
      "outputs": []
    },
    {
      "cell_type": "code",
      "execution_count": null,
      "metadata": {
        "collapsed": true,
        "id": "5LOdhuByBAX6"
      },
      "outputs": [],
      "source": [
        "nlp = spacy.load(\"en_core_web_lg\")\n",
        "nlp.add_pipe(\"gliner_spacy\", config = {\"labels\": [\"SYMPTOM\", \"DISORDER\", \"PERSON\", \"TIME\", \"DATE\", \"ORDINAL\", \"CARDINAL\", \"LOCATION\", \"PERCENTAGE\"]})"
      ]
    },
    {
      "cell_type": "code",
      "source": [
        "doc = nlp(text)\n",
        "entities_by_label = {}\n",
        "for ent in doc.ents:\n",
        "    label = ent.label_.lower()\n",
        "    text = ent.text.lower()\n",
        "    if label not in entities_by_label:\n",
        "        entities_by_label[label] = [text]\n",
        "    elif text not in entities_by_label[label]:\n",
        "        entities_by_label[label].append(text)\n",
        "\n",
        "for label, texts in entities_by_label.items():\n",
        "    print(f\"'{label.upper()}': {texts}\")"
      ],
      "metadata": {
        "colab": {
          "base_uri": "https://localhost:8080/"
        },
        "collapsed": true,
        "id": "fHKXxAo-_cmf",
        "outputId": "a3e8155e-f01f-4056-d3a0-6cd6d4420ae2"
      },
      "execution_count": null,
      "outputs": [
        {
          "output_type": "stream",
          "name": "stdout",
          "text": [
            "'DISORDER': ['manic episodes', 'irritable mood', 'mixed episodes', 'major depressive episodes', 'mood disorder', 'medical condition', 'major depressive episode', 'mood disturbance', 'multiple sclerosis', 'stroke', 'hypothyroidism', 'substance/medication-induced depressive', 'bipolar disorder', 'major depressive', 'depressed mood', 'cocaine-induced depressive disorder', 'attention-deficit/hyperactivity disorder', 'attention-deficit/ hyperactivity disorder', 'adjustment disorder', 'depressive episode', 'diagnosis', 'disorder']\n",
            "'SYMPTOM': ['manic symptoms', 'findings', 'distractibility', 'low frustration tolerance', 'major depressive episode', 'irritability', 'sadness', 'loss of interest', 'mood', 'psychosocial stressor', 'human experience', 'severity', 'symptoms', 'presentations', 'depressed mood', 'clinically significant impairment']\n",
            "'PERCENTAGE': ['criteria', 'severity']\n",
            "'PERSON': ['clinician', 'children']\n",
            "'TIME': ['2 weeks', 'duration']\n"
          ]
        }
      ]
    },
    {
      "cell_type": "markdown",
      "metadata": {
        "id": "SCeHj1WAPWvq"
      },
      "source": [
        "#Example2) working with GLiNER\n",
        "model: `urchade/gliner_large-v2.1`"
      ]
    },
    {
      "cell_type": "code",
      "execution_count": null,
      "metadata": {
        "collapsed": true,
        "id": "oRxHTsbUPxDr"
      },
      "outputs": [],
      "source": [
        "!pip install gliner"
      ]
    },
    {
      "cell_type": "code",
      "execution_count": null,
      "metadata": {
        "id": "8PnKjlAuPbFt"
      },
      "outputs": [],
      "source": [
        "from gliner import GLiNER"
      ]
    },
    {
      "cell_type": "code",
      "execution_count": null,
      "metadata": {
        "id": "sKR-tag_likF"
      },
      "outputs": [],
      "source": [
        "model = GLiNER.from_pretrained(\"urchade/gliner_large-v2.1\")\n",
        "model.eval()\n",
        "print(\"OK\")"
      ]
    },
    {
      "cell_type": "code",
      "execution_count": null,
      "metadata": {
        "id": "LgSTnLbDlmLb"
      },
      "outputs": [],
      "source": [
        "labels = [\"SYMPTOM\", \"DISORDER\", \"PERSON\", \"TIME\", \"DATE\", \"ORDINAL\", \"CARDINAL\", \"LOCATION\", \"PERCENTAGE\"]"
      ]
    },
    {
      "cell_type": "code",
      "source": [
        "entities = model.predict_entities(text, labels, threshold=0.4)\n",
        "\n",
        "entity_labels_dict = {}\n",
        "\n",
        "# Convert all entities to lowercase for comparison\n",
        "for entity in entities:\n",
        "    entity[\"text\"] = entity[\"text\"].lower()\n",
        "\n",
        "for entity in entities:\n",
        "    if entity[\"label\"] not in entity_labels_dict:\n",
        "        entity_labels_dict[entity[\"label\"]] = set()\n",
        "\n",
        "    entity_labels_dict[entity[\"label\"]].add(entity[\"text\"])\n",
        "\n",
        "# Print label-entities dictionary\n",
        "print(\"Entities by Label:\")\n",
        "for label, entities in entity_labels_dict.items():\n",
        "    print(f\"[{label}]:\")\n",
        "    for entity in entities:\n",
        "        print(f\"  {entity} -> {label}\")"
      ],
      "metadata": {
        "colab": {
          "base_uri": "https://localhost:8080/"
        },
        "collapsed": true,
        "id": "OpEBzjD6H4qx",
        "outputId": "764cf62a-8308-412a-8d5b-55fb41a1acf1"
      },
      "execution_count": null,
      "outputs": [
        {
          "output_type": "stream",
          "name": "stdout",
          "text": [
            "Entities by Label:\n",
            "[SYMPTOM]:\n",
            "  distractibility -> SYMPTOM\n",
            "  depressed mood -> SYMPTOM\n",
            "  irritability -> SYMPTOM\n",
            "  irritable mood -> SYMPTOM\n",
            "  low frustration tolerance -> SYMPTOM\n",
            "  sadness -> SYMPTOM\n",
            "[DISORDER]:\n",
            "  adjustment disorder -> DISORDER\n",
            "  attention-deficit/ hyperactivity disorder -> DISORDER\n",
            "  multiple sclerosis -> DISORDER\n",
            "  cocaine-induced depressive disorder -> DISORDER\n",
            "  attention-deficit/hyperactivity disorder -> DISORDER\n",
            "  major depressive disorder -> DISORDER\n",
            "  bipolar disorder -> DISORDER\n",
            "  major depressive episode -> DISORDER\n"
          ]
        }
      ]
    },
    {
      "cell_type": "markdown",
      "metadata": {
        "id": "634RYAc9cFUV"
      },
      "source": [
        "#Example3) working with GLiNER\n",
        "**difference from example2:** defining library functions manually by ourselves. <br>\n",
        "model: `urchade/gliner_large-v2.1`"
      ]
    },
    {
      "cell_type": "code",
      "execution_count": null,
      "metadata": {
        "id": "_DTeK8kndMXD"
      },
      "outputs": [],
      "source": [
        "from gliner import GLiNER\n",
        "import time\n",
        "from rich.console import Console\n",
        "\n",
        "c = Console(soft_wrap=True)"
      ]
    },
    {
      "cell_type": "code",
      "execution_count": null,
      "metadata": {
        "id": "LbPCtTL_dMuD"
      },
      "outputs": [],
      "source": [
        "import hashlib\n",
        "\n",
        "def colour_code_for(label):\n",
        "    hash_object = hashlib.sha256(label.encode())\n",
        "    hash_int = int.from_bytes(hash_object.digest(), 'big')\n",
        "    darker_color_code_int = hash_int % 0x505050\n",
        "    return f'#{darker_color_code_int:06x}'"
      ]
    },
    {
      "cell_type": "code",
      "execution_count": null,
      "metadata": {
        "id": "unGKeqDPdM7z"
      },
      "outputs": [],
      "source": [
        "def fill_gaps(entities, text):\n",
        "    chunks = []\n",
        "    for prev_entity, next_entity in zip(entities[:-1], entities[1:]):\n",
        "        chunks.append(prev_entity)\n",
        "        start = prev_entity[\"end\"]\n",
        "        end = next_entity[\"start\"]\n",
        "        chunks.append({\"start\": start, \"end\": end, \"text\": text[start:end]})\n",
        "    chunks.append(entities[-1])\n",
        "\n",
        "    if len(entities) > 0:\n",
        "        if entities[0][\"start\"] > 0:\n",
        "            start = 0\n",
        "            end = entities[0][\"start\"]\n",
        "            start_chunk = {\"start\": start, \"end\": end, \"text\": text[start:end]}\n",
        "            chunks.insert(0, start_chunk)\n",
        "        if entities[-1][\"end\"] < len(text)-1:\n",
        "            start = entities[-1][\"end\"]\n",
        "            end = len(text)\n",
        "            end_chunk = {\"start\": start, \"end\": end, \"text\": text[start:end]}\n",
        "            chunks.append(end_chunk)\n",
        "    return chunks\n"
      ]
    },
    {
      "cell_type": "code",
      "execution_count": null,
      "metadata": {
        "id": "1F_yHF9mdNIA"
      },
      "outputs": [],
      "source": [
        "def render_labels(label_colour_codes):\n",
        "    c = Console()\n",
        "    c.print(\"Labels: \", end='')\n",
        "    for label, colour in label_colour_codes.items():\n",
        "        c.print(label, end='', style=f\"bold white on {colour}\")\n",
        "        c.print(\"\", end=' ')\n",
        "    c.print()\n",
        "\n",
        "\n",
        "def render_text(chunks, label_colour_codes):\n",
        "    c = Console()\n",
        "    for entity in chunks:\n",
        "        colour = entity.get(\"label\")\n",
        "        if colour in label_colour_codes:\n",
        "            style = f\"bold white on {label_colour_codes[colour]}\"\n",
        "        else:\n",
        "            style = \"white on black\"\n",
        "        c.print(entity['text'], end='', style=style)\n"
      ]
    },
    {
      "cell_type": "code",
      "execution_count": null,
      "metadata": {
        "id": "FdHUGPKYdNPX"
      },
      "outputs": [],
      "source": [
        "\n",
        "def annotate_text(text, labels, model):\n",
        "    label_color_codes = {label: colour_code_for(label) for label in labels}\n",
        "    render_labels(label_color_codes)\n",
        "\n",
        "    start = time.time()\n",
        "    entities = model.predict_entities(text, labels)\n",
        "    end = time.time()\n",
        "    render_text(fill_gaps(entities, text), label_color_codes)\n",
        "    c.print(f\"\\nTime taken: {end-start:.2f} seconds\")\n"
      ]
    },
    {
      "cell_type": "code",
      "execution_count": null,
      "metadata": {
        "id": "g-U8TdOkdgsy"
      },
      "outputs": [],
      "source": [
        "# Load the model\n",
        "model = GLiNER.from_pretrained(\"urchade/gliner_large-v2.1\")"
      ]
    },
    {
      "cell_type": "code",
      "source": [
        "#text = \"\"\n",
        "labels = [\"SYMPTOM\", \"DISORDER\", \"PERSON\", \"TIME\", \"DATE\", \"ORDINAL\", \"CARDINAL\", \"LOCATION\", \"PERCENTAGE\"]\n",
        "annotate_text(text, labels, model)"
      ],
      "metadata": {
        "colab": {
          "base_uri": "https://localhost:8080/",
          "height": 1000
        },
        "id": "a_aCxi1vUVff",
        "outputId": "b303cb58-89c1-4738-c793-229f85a94510"
      },
      "execution_count": null,
      "outputs": [
        {
          "output_type": "display_data",
          "data": {
            "text/plain": [
              "Labels: "
            ],
            "text/html": [
              "<pre style=\"white-space:pre;overflow-x:auto;line-height:normal;font-family:Menlo,'DejaVu Sans Mono',consolas,'Courier New',monospace\">Labels: </pre>\n"
            ]
          },
          "metadata": {}
        },
        {
          "output_type": "display_data",
          "data": {
            "text/plain": [
              "\u001b[1;37;48;2;10;24;116mSYMPTOM\u001b[0m"
            ],
            "text/html": [
              "<pre style=\"white-space:pre;overflow-x:auto;line-height:normal;font-family:Menlo,'DejaVu Sans Mono',consolas,'Courier New',monospace\"><span style=\"color: #c0c0c0; text-decoration-color: #c0c0c0; background-color: #0a1874; font-weight: bold\">SYMPTOM</span></pre>\n"
            ]
          },
          "metadata": {}
        },
        {
          "output_type": "display_data",
          "data": {
            "text/plain": [
              " "
            ],
            "text/html": [
              "<pre style=\"white-space:pre;overflow-x:auto;line-height:normal;font-family:Menlo,'DejaVu Sans Mono',consolas,'Courier New',monospace\"> </pre>\n"
            ]
          },
          "metadata": {}
        },
        {
          "output_type": "display_data",
          "data": {
            "text/plain": [
              "\u001b[1;37;48;2;42;163;154mDISORDER\u001b[0m"
            ],
            "text/html": [
              "<pre style=\"white-space:pre;overflow-x:auto;line-height:normal;font-family:Menlo,'DejaVu Sans Mono',consolas,'Courier New',monospace\"><span style=\"color: #c0c0c0; text-decoration-color: #c0c0c0; background-color: #2aa39a; font-weight: bold\">DISORDER</span></pre>\n"
            ]
          },
          "metadata": {}
        },
        {
          "output_type": "display_data",
          "data": {
            "text/plain": [
              " "
            ],
            "text/html": [
              "<pre style=\"white-space:pre;overflow-x:auto;line-height:normal;font-family:Menlo,'DejaVu Sans Mono',consolas,'Courier New',monospace\"> </pre>\n"
            ]
          },
          "metadata": {}
        },
        {
          "output_type": "display_data",
          "data": {
            "text/plain": [
              "\u001b[1;37;48;2;38;148;210mPERSON\u001b[0m"
            ],
            "text/html": [
              "<pre style=\"white-space:pre;overflow-x:auto;line-height:normal;font-family:Menlo,'DejaVu Sans Mono',consolas,'Courier New',monospace\"><span style=\"color: #c0c0c0; text-decoration-color: #c0c0c0; background-color: #2694d2; font-weight: bold\">PERSON</span></pre>\n"
            ]
          },
          "metadata": {}
        },
        {
          "output_type": "display_data",
          "data": {
            "text/plain": [
              " "
            ],
            "text/html": [
              "<pre style=\"white-space:pre;overflow-x:auto;line-height:normal;font-family:Menlo,'DejaVu Sans Mono',consolas,'Courier New',monospace\"> </pre>\n"
            ]
          },
          "metadata": {}
        },
        {
          "output_type": "display_data",
          "data": {
            "text/plain": [
              "\u001b[1;37;48;2;33;240;208mTIME\u001b[0m"
            ],
            "text/html": [
              "<pre style=\"white-space:pre;overflow-x:auto;line-height:normal;font-family:Menlo,'DejaVu Sans Mono',consolas,'Courier New',monospace\"><span style=\"color: #c0c0c0; text-decoration-color: #c0c0c0; background-color: #21f0d0; font-weight: bold\">TIME</span></pre>\n"
            ]
          },
          "metadata": {}
        },
        {
          "output_type": "display_data",
          "data": {
            "text/plain": [
              " "
            ],
            "text/html": [
              "<pre style=\"white-space:pre;overflow-x:auto;line-height:normal;font-family:Menlo,'DejaVu Sans Mono',consolas,'Courier New',monospace\"> </pre>\n"
            ]
          },
          "metadata": {}
        },
        {
          "output_type": "display_data",
          "data": {
            "text/plain": [
              "\u001b[1;37;48;2;54;230;219mDATE\u001b[0m"
            ],
            "text/html": [
              "<pre style=\"white-space:pre;overflow-x:auto;line-height:normal;font-family:Menlo,'DejaVu Sans Mono',consolas,'Courier New',monospace\"><span style=\"color: #c0c0c0; text-decoration-color: #c0c0c0; background-color: #36e6db; font-weight: bold\">DATE</span></pre>\n"
            ]
          },
          "metadata": {}
        },
        {
          "output_type": "display_data",
          "data": {
            "text/plain": [
              " "
            ],
            "text/html": [
              "<pre style=\"white-space:pre;overflow-x:auto;line-height:normal;font-family:Menlo,'DejaVu Sans Mono',consolas,'Courier New',monospace\"> </pre>\n"
            ]
          },
          "metadata": {}
        },
        {
          "output_type": "display_data",
          "data": {
            "text/plain": [
              "\u001b[1;37;48;2;44;195;120mORDINAL\u001b[0m"
            ],
            "text/html": [
              "<pre style=\"white-space:pre;overflow-x:auto;line-height:normal;font-family:Menlo,'DejaVu Sans Mono',consolas,'Courier New',monospace\"><span style=\"color: #c0c0c0; text-decoration-color: #c0c0c0; background-color: #2cc378; font-weight: bold\">ORDINAL</span></pre>\n"
            ]
          },
          "metadata": {}
        },
        {
          "output_type": "display_data",
          "data": {
            "text/plain": [
              " "
            ],
            "text/html": [
              "<pre style=\"white-space:pre;overflow-x:auto;line-height:normal;font-family:Menlo,'DejaVu Sans Mono',consolas,'Courier New',monospace\"> </pre>\n"
            ]
          },
          "metadata": {}
        },
        {
          "output_type": "display_data",
          "data": {
            "text/plain": [
              "\u001b[1;37;48;2;55;217;14mCARDINAL\u001b[0m"
            ],
            "text/html": [
              "<pre style=\"white-space:pre;overflow-x:auto;line-height:normal;font-family:Menlo,'DejaVu Sans Mono',consolas,'Courier New',monospace\"><span style=\"color: #c0c0c0; text-decoration-color: #c0c0c0; background-color: #37d90e; font-weight: bold\">CARDINAL</span></pre>\n"
            ]
          },
          "metadata": {}
        },
        {
          "output_type": "display_data",
          "data": {
            "text/plain": [
              " "
            ],
            "text/html": [
              "<pre style=\"white-space:pre;overflow-x:auto;line-height:normal;font-family:Menlo,'DejaVu Sans Mono',consolas,'Courier New',monospace\"> </pre>\n"
            ]
          },
          "metadata": {}
        },
        {
          "output_type": "display_data",
          "data": {
            "text/plain": [
              "\u001b[1;37;48;2;54;226;124mLOCATION\u001b[0m"
            ],
            "text/html": [
              "<pre style=\"white-space:pre;overflow-x:auto;line-height:normal;font-family:Menlo,'DejaVu Sans Mono',consolas,'Courier New',monospace\"><span style=\"color: #c0c0c0; text-decoration-color: #c0c0c0; background-color: #36e27c; font-weight: bold\">LOCATION</span></pre>\n"
            ]
          },
          "metadata": {}
        },
        {
          "output_type": "display_data",
          "data": {
            "text/plain": [
              " "
            ],
            "text/html": [
              "<pre style=\"white-space:pre;overflow-x:auto;line-height:normal;font-family:Menlo,'DejaVu Sans Mono',consolas,'Courier New',monospace\"> </pre>\n"
            ]
          },
          "metadata": {}
        },
        {
          "output_type": "display_data",
          "data": {
            "text/plain": [
              "\u001b[1;37;48;2;59;114;186mPERCENTAGE\u001b[0m"
            ],
            "text/html": [
              "<pre style=\"white-space:pre;overflow-x:auto;line-height:normal;font-family:Menlo,'DejaVu Sans Mono',consolas,'Courier New',monospace\"><span style=\"color: #c0c0c0; text-decoration-color: #c0c0c0; background-color: #3b72ba; font-weight: bold\">PERCENTAGE</span></pre>\n"
            ]
          },
          "metadata": {}
        },
        {
          "output_type": "display_data",
          "data": {
            "text/plain": [
              " "
            ],
            "text/html": [
              "<pre style=\"white-space:pre;overflow-x:auto;line-height:normal;font-family:Menlo,'DejaVu Sans Mono',consolas,'Courier New',monospace\"> </pre>\n"
            ]
          },
          "metadata": {}
        },
        {
          "output_type": "display_data",
          "data": {
            "text/plain": [
              "\n"
            ],
            "text/html": [
              "<pre style=\"white-space:pre;overflow-x:auto;line-height:normal;font-family:Menlo,'DejaVu Sans Mono',consolas,'Courier New',monospace\">\n",
              "</pre>\n"
            ]
          },
          "metadata": {}
        },
        {
          "output_type": "stream",
          "name": "stderr",
          "text": [
            "Asking to truncate to max_length but no maximum length is provided and the model has no predefined maximum length. Default to no truncation.\n"
          ]
        },
        {
          "output_type": "display_data",
          "data": {
            "text/plain": [
              "\n",
              "\u001b[37;40mManic episodes with \u001b[0m"
            ],
            "text/html": [
              "<pre style=\"white-space:pre;overflow-x:auto;line-height:normal;font-family:Menlo,'DejaVu Sans Mono',consolas,'Courier New',monospace\">\n",
              "<span style=\"color: #c0c0c0; text-decoration-color: #c0c0c0; background-color: #000000\">Manic episodes with </span></pre>\n"
            ]
          },
          "metadata": {}
        },
        {
          "output_type": "display_data",
          "data": {
            "text/plain": [
              "\u001b[1;37;48;2;10;24;116mirritable mood\u001b[0m"
            ],
            "text/html": [
              "<pre style=\"white-space:pre;overflow-x:auto;line-height:normal;font-family:Menlo,'DejaVu Sans Mono',consolas,'Courier New',monospace\"><span style=\"color: #c0c0c0; text-decoration-color: #c0c0c0; background-color: #0a1874; font-weight: bold\">irritable mood</span></pre>\n"
            ]
          },
          "metadata": {}
        },
        {
          "output_type": "display_data",
          "data": {
            "text/plain": [
              "\u001b[37;40m or mixed episodes. Major depressive episodes with prominent \u001b[0m"
            ],
            "text/html": [
              "<pre style=\"white-space:pre;overflow-x:auto;line-height:normal;font-family:Menlo,'DejaVu Sans Mono',consolas,'Courier New',monospace\"><span style=\"color: #c0c0c0; text-decoration-color: #c0c0c0; background-color: #000000\"> or mixed episodes. Major depressive episodes with prominent </span></pre>\n"
            ]
          },
          "metadata": {}
        },
        {
          "output_type": "display_data",
          "data": {
            "text/plain": [
              "\u001b[1;37;48;2;10;24;116mirritable mood\u001b[0m"
            ],
            "text/html": [
              "<pre style=\"white-space:pre;overflow-x:auto;line-height:normal;font-family:Menlo,'DejaVu Sans Mono',consolas,'Courier New',monospace\"><span style=\"color: #c0c0c0; text-decoration-color: #c0c0c0; background-color: #0a1874; font-weight: bold\">irritable mood</span></pre>\n"
            ]
          },
          "metadata": {}
        },
        {
          "output_type": "display_data",
          "data": {
            "text/plain": [
              "\u001b[37;40m may be difficult to distinguish from manic episodes with \u001b[0m"
            ],
            "text/html": [
              "<pre style=\"white-space:pre;overflow-x:auto;line-height:normal;font-family:Menlo,'DejaVu Sans Mono',consolas,'Courier New',monospace\"><span style=\"color: #c0c0c0; text-decoration-color: #c0c0c0; background-color: #000000\"> may be difficult to distinguish from manic episodes with </span></pre>\n"
            ]
          },
          "metadata": {}
        },
        {
          "output_type": "display_data",
          "data": {
            "text/plain": [
              "\u001b[1;37;48;2;10;24;116mirritable mood\u001b[0m"
            ],
            "text/html": [
              "<pre style=\"white-space:pre;overflow-x:auto;line-height:normal;font-family:Menlo,'DejaVu Sans Mono',consolas,'Courier New',monospace\"><span style=\"color: #c0c0c0; text-decoration-color: #c0c0c0; background-color: #0a1874; font-weight: bold\">irritable mood</span></pre>\n"
            ]
          },
          "metadata": {}
        },
        {
          "output_type": "display_data",
          "data": {
            "text/plain": [
              "\u001b[37;40m or from mixed episodes. This distinction requires a careful clinical evaluation of the presence of manic symptoms.\u001b[0m\n",
              "\u001b[37;40mMood disorder due to another medical condition. A \u001b[0m"
            ],
            "text/html": [
              "<pre style=\"white-space:pre;overflow-x:auto;line-height:normal;font-family:Menlo,'DejaVu Sans Mono',consolas,'Courier New',monospace\"><span style=\"color: #c0c0c0; text-decoration-color: #c0c0c0; background-color: #000000\"> or from mixed episodes. This distinction requires a careful clinical evaluation of the presence of manic symptoms.</span>\n",
              "<span style=\"color: #c0c0c0; text-decoration-color: #c0c0c0; background-color: #000000\">Mood disorder due to another medical condition. A </span></pre>\n"
            ]
          },
          "metadata": {}
        },
        {
          "output_type": "display_data",
          "data": {
            "text/plain": [
              "\u001b[1;37;48;2;42;163;154mmajor depressive episode\u001b[0m"
            ],
            "text/html": [
              "<pre style=\"white-space:pre;overflow-x:auto;line-height:normal;font-family:Menlo,'DejaVu Sans Mono',consolas,'Courier New',monospace\"><span style=\"color: #c0c0c0; text-decoration-color: #c0c0c0; background-color: #2aa39a; font-weight: bold\">major depressive episode</span></pre>\n"
            ]
          },
          "metadata": {}
        },
        {
          "output_type": "display_data",
          "data": {
            "text/plain": [
              "\u001b[37;40m is the appropriate diagnosis if the mood disturbance is not judged, based on individual history, physical \u001b[0m\n",
              "\u001b[37;40mexamination, and laboratory findings, to be the direct pathophysiological consequence of a specific medical \u001b[0m\n",
              "\u001b[37;40mcondition \u001b[0m\u001b[1;37;40m(\u001b[0m\u001b[37;40me.g., multiple sclerosis, stroke, hypothyroidism\u001b[0m\u001b[1;37;40m)\u001b[0m\u001b[37;40m. \u001b[0m\n",
              "\u001b[37;40mSubstance/medication-induced depressive or \u001b[0m"
            ],
            "text/html": [
              "<pre style=\"white-space:pre;overflow-x:auto;line-height:normal;font-family:Menlo,'DejaVu Sans Mono',consolas,'Courier New',monospace\"><span style=\"color: #c0c0c0; text-decoration-color: #c0c0c0; background-color: #000000\"> is the appropriate diagnosis if the mood disturbance is not judged, based on individual history, physical </span>\n",
              "<span style=\"color: #c0c0c0; text-decoration-color: #c0c0c0; background-color: #000000\">examination, and laboratory findings, to be the direct pathophysiological consequence of a specific medical </span>\n",
              "<span style=\"color: #c0c0c0; text-decoration-color: #c0c0c0; background-color: #000000\">condition </span><span style=\"color: #c0c0c0; text-decoration-color: #c0c0c0; background-color: #000000; font-weight: bold\">(</span><span style=\"color: #c0c0c0; text-decoration-color: #c0c0c0; background-color: #000000\">e.g., multiple sclerosis, stroke, hypothyroidism</span><span style=\"color: #c0c0c0; text-decoration-color: #c0c0c0; background-color: #000000; font-weight: bold\">)</span><span style=\"color: #c0c0c0; text-decoration-color: #c0c0c0; background-color: #000000\">. </span>\n",
              "<span style=\"color: #c0c0c0; text-decoration-color: #c0c0c0; background-color: #000000\">Substance/medication-induced depressive or </span></pre>\n"
            ]
          },
          "metadata": {}
        },
        {
          "output_type": "display_data",
          "data": {
            "text/plain": [
              "\u001b[1;37;48;2;42;163;154mbipolar disorder\u001b[0m"
            ],
            "text/html": [
              "<pre style=\"white-space:pre;overflow-x:auto;line-height:normal;font-family:Menlo,'DejaVu Sans Mono',consolas,'Courier New',monospace\"><span style=\"color: #c0c0c0; text-decoration-color: #c0c0c0; background-color: #2aa39a; font-weight: bold\">bipolar disorder</span></pre>\n"
            ]
          },
          "metadata": {}
        },
        {
          "output_type": "display_data",
          "data": {
            "text/plain": [
              "\u001b[37;40m. This disorder is distinguished from \u001b[0m"
            ],
            "text/html": [
              "<pre style=\"white-space:pre;overflow-x:auto;line-height:normal;font-family:Menlo,'DejaVu Sans Mono',consolas,'Courier New',monospace\"><span style=\"color: #c0c0c0; text-decoration-color: #c0c0c0; background-color: #000000\">. This disorder is distinguished from </span></pre>\n"
            ]
          },
          "metadata": {}
        },
        {
          "output_type": "display_data",
          "data": {
            "text/plain": [
              "\u001b[1;37;48;2;42;163;154mmajor depressive disorder\u001b[0m"
            ],
            "text/html": [
              "<pre style=\"white-space:pre;overflow-x:auto;line-height:normal;font-family:Menlo,'DejaVu Sans Mono',consolas,'Courier New',monospace\"><span style=\"color: #c0c0c0; text-decoration-color: #c0c0c0; background-color: #2aa39a; font-weight: bold\">major depressive disorder</span></pre>\n"
            ]
          },
          "metadata": {}
        },
        {
          "output_type": "display_data",
          "data": {
            "text/plain": [
              "\u001b[37;40m by the fact that a substance \u001b[0m\u001b[1;37;40m(\u001b[0m\u001b[37;40me.g., a drug of abuse, a medication, a toxin\u001b[0m\u001b[1;37;40m)\u001b[0m\u001b[37;40m appears to be etiologically related to\u001b[0m\n",
              "\u001b[37;40mthe mood disturbance. For example, \u001b[0m"
            ],
            "text/html": [
              "<pre style=\"white-space:pre;overflow-x:auto;line-height:normal;font-family:Menlo,'DejaVu Sans Mono',consolas,'Courier New',monospace\"><span style=\"color: #c0c0c0; text-decoration-color: #c0c0c0; background-color: #000000\"> by the fact that a substance </span><span style=\"color: #c0c0c0; text-decoration-color: #c0c0c0; background-color: #000000; font-weight: bold\">(</span><span style=\"color: #c0c0c0; text-decoration-color: #c0c0c0; background-color: #000000\">e.g., a drug of abuse, a medication, a toxin</span><span style=\"color: #c0c0c0; text-decoration-color: #c0c0c0; background-color: #000000; font-weight: bold\">)</span><span style=\"color: #c0c0c0; text-decoration-color: #c0c0c0; background-color: #000000\"> appears to be etiologically related to</span>\n",
              "<span style=\"color: #c0c0c0; text-decoration-color: #c0c0c0; background-color: #000000\">the mood disturbance. For example, </span></pre>\n"
            ]
          },
          "metadata": {}
        },
        {
          "output_type": "display_data",
          "data": {
            "text/plain": [
              "\u001b[1;37;48;2;10;24;116mdepressed mood\u001b[0m"
            ],
            "text/html": [
              "<pre style=\"white-space:pre;overflow-x:auto;line-height:normal;font-family:Menlo,'DejaVu Sans Mono',consolas,'Courier New',monospace\"><span style=\"color: #c0c0c0; text-decoration-color: #c0c0c0; background-color: #0a1874; font-weight: bold\">depressed mood</span></pre>\n"
            ]
          },
          "metadata": {}
        },
        {
          "output_type": "display_data",
          "data": {
            "text/plain": [
              "\u001b[37;40m that occurs only in the context of withdrawal from cocaine would be diagnosed as cocaine-induced depressive \u001b[0m\n",
              "\u001b[37;40mdisorder.\u001b[0m\n"
            ],
            "text/html": [
              "<pre style=\"white-space:pre;overflow-x:auto;line-height:normal;font-family:Menlo,'DejaVu Sans Mono',consolas,'Courier New',monospace\"><span style=\"color: #c0c0c0; text-decoration-color: #c0c0c0; background-color: #000000\"> that occurs only in the context of withdrawal from cocaine would be diagnosed as cocaine-induced depressive </span>\n",
              "<span style=\"color: #c0c0c0; text-decoration-color: #c0c0c0; background-color: #000000\">disorder.</span>\n",
              "</pre>\n"
            ]
          },
          "metadata": {}
        },
        {
          "output_type": "display_data",
          "data": {
            "text/plain": [
              "\u001b[1;37;48;2;42;163;154mAttention-deficit/hyperactivity disorder\u001b[0m"
            ],
            "text/html": [
              "<pre style=\"white-space:pre;overflow-x:auto;line-height:normal;font-family:Menlo,'DejaVu Sans Mono',consolas,'Courier New',monospace\"><span style=\"color: #c0c0c0; text-decoration-color: #c0c0c0; background-color: #2aa39a; font-weight: bold\">Attention-deficit/hyperactivity disorder</span></pre>\n"
            ]
          },
          "metadata": {}
        },
        {
          "output_type": "display_data",
          "data": {
            "text/plain": [
              "\u001b[37;40m. \u001b[0m"
            ],
            "text/html": [
              "<pre style=\"white-space:pre;overflow-x:auto;line-height:normal;font-family:Menlo,'DejaVu Sans Mono',consolas,'Courier New',monospace\"><span style=\"color: #c0c0c0; text-decoration-color: #c0c0c0; background-color: #000000\">. </span></pre>\n"
            ]
          },
          "metadata": {}
        },
        {
          "output_type": "display_data",
          "data": {
            "text/plain": [
              "\u001b[1;37;48;2;10;24;116mDistractibility\u001b[0m"
            ],
            "text/html": [
              "<pre style=\"white-space:pre;overflow-x:auto;line-height:normal;font-family:Menlo,'DejaVu Sans Mono',consolas,'Courier New',monospace\"><span style=\"color: #c0c0c0; text-decoration-color: #c0c0c0; background-color: #0a1874; font-weight: bold\">Distractibility</span></pre>\n"
            ]
          },
          "metadata": {}
        },
        {
          "output_type": "display_data",
          "data": {
            "text/plain": [
              "\u001b[37;40m and \u001b[0m"
            ],
            "text/html": [
              "<pre style=\"white-space:pre;overflow-x:auto;line-height:normal;font-family:Menlo,'DejaVu Sans Mono',consolas,'Courier New',monospace\"><span style=\"color: #c0c0c0; text-decoration-color: #c0c0c0; background-color: #000000\"> and </span></pre>\n"
            ]
          },
          "metadata": {}
        },
        {
          "output_type": "display_data",
          "data": {
            "text/plain": [
              "\u001b[1;37;48;2;10;24;116mlow frustration tolerance\u001b[0m"
            ],
            "text/html": [
              "<pre style=\"white-space:pre;overflow-x:auto;line-height:normal;font-family:Menlo,'DejaVu Sans Mono',consolas,'Courier New',monospace\"><span style=\"color: #c0c0c0; text-decoration-color: #c0c0c0; background-color: #0a1874; font-weight: bold\">low frustration tolerance</span></pre>\n"
            ]
          },
          "metadata": {}
        },
        {
          "output_type": "display_data",
          "data": {
            "text/plain": [
              "\u001b[37;40m can occur in both \u001b[0m"
            ],
            "text/html": [
              "<pre style=\"white-space:pre;overflow-x:auto;line-height:normal;font-family:Menlo,'DejaVu Sans Mono',consolas,'Courier New',monospace\"><span style=\"color: #c0c0c0; text-decoration-color: #c0c0c0; background-color: #000000\"> can occur in both </span></pre>\n"
            ]
          },
          "metadata": {}
        },
        {
          "output_type": "display_data",
          "data": {
            "text/plain": [
              "\u001b[1;37;48;2;42;163;154mattention-deficit/ hyperactivity disorder\u001b[0m"
            ],
            "text/html": [
              "<pre style=\"white-space:pre;overflow-x:auto;line-height:normal;font-family:Menlo,'DejaVu Sans Mono',consolas,'Courier New',monospace\"><span style=\"color: #c0c0c0; text-decoration-color: #c0c0c0; background-color: #2aa39a; font-weight: bold\">attention-deficit/ hyperactivity disorder</span></pre>\n"
            ]
          },
          "metadata": {}
        },
        {
          "output_type": "display_data",
          "data": {
            "text/plain": [
              "\u001b[37;40m and a \u001b[0m"
            ],
            "text/html": [
              "<pre style=\"white-space:pre;overflow-x:auto;line-height:normal;font-family:Menlo,'DejaVu Sans Mono',consolas,'Courier New',monospace\"><span style=\"color: #c0c0c0; text-decoration-color: #c0c0c0; background-color: #000000\"> and a </span></pre>\n"
            ]
          },
          "metadata": {}
        },
        {
          "output_type": "display_data",
          "data": {
            "text/plain": [
              "\u001b[1;37;48;2;42;163;154mmajor depressive episode\u001b[0m"
            ],
            "text/html": [
              "<pre style=\"white-space:pre;overflow-x:auto;line-height:normal;font-family:Menlo,'DejaVu Sans Mono',consolas,'Courier New',monospace\"><span style=\"color: #c0c0c0; text-decoration-color: #c0c0c0; background-color: #2aa39a; font-weight: bold\">major depressive episode</span></pre>\n"
            ]
          },
          "metadata": {}
        },
        {
          "output_type": "display_data",
          "data": {
            "text/plain": [
              "\u001b[37;40m; if the criteria are met for both, \u001b[0m"
            ],
            "text/html": [
              "<pre style=\"white-space:pre;overflow-x:auto;line-height:normal;font-family:Menlo,'DejaVu Sans Mono',consolas,'Courier New',monospace\"><span style=\"color: #c0c0c0; text-decoration-color: #c0c0c0; background-color: #000000\">; if the criteria are met for both, </span></pre>\n"
            ]
          },
          "metadata": {}
        },
        {
          "output_type": "display_data",
          "data": {
            "text/plain": [
              "\u001b[1;37;48;2;42;163;154mattention-deficit/hyperactivity disorder\u001b[0m"
            ],
            "text/html": [
              "<pre style=\"white-space:pre;overflow-x:auto;line-height:normal;font-family:Menlo,'DejaVu Sans Mono',consolas,'Courier New',monospace\"><span style=\"color: #c0c0c0; text-decoration-color: #c0c0c0; background-color: #2aa39a; font-weight: bold\">attention-deficit/hyperactivity disorder</span></pre>\n"
            ]
          },
          "metadata": {}
        },
        {
          "output_type": "display_data",
          "data": {
            "text/plain": [
              "\u001b[37;40m may be diagnosed in addition to the mood disorder. However, the clinician must be cautious not to overdiagnose a \u001b[0m"
            ],
            "text/html": [
              "<pre style=\"white-space:pre;overflow-x:auto;line-height:normal;font-family:Menlo,'DejaVu Sans Mono',consolas,'Courier New',monospace\"><span style=\"color: #c0c0c0; text-decoration-color: #c0c0c0; background-color: #000000\"> may be diagnosed in addition to the mood disorder. However, the clinician must be cautious not to overdiagnose a </span></pre>\n"
            ]
          },
          "metadata": {}
        },
        {
          "output_type": "display_data",
          "data": {
            "text/plain": [
              "\u001b[1;37;48;2;42;163;154mmajor depressive episode\u001b[0m"
            ],
            "text/html": [
              "<pre style=\"white-space:pre;overflow-x:auto;line-height:normal;font-family:Menlo,'DejaVu Sans Mono',consolas,'Courier New',monospace\"><span style=\"color: #c0c0c0; text-decoration-color: #c0c0c0; background-color: #2aa39a; font-weight: bold\">major depressive episode</span></pre>\n"
            ]
          },
          "metadata": {}
        },
        {
          "output_type": "display_data",
          "data": {
            "text/plain": [
              "\u001b[37;40m in children with \u001b[0m"
            ],
            "text/html": [
              "<pre style=\"white-space:pre;overflow-x:auto;line-height:normal;font-family:Menlo,'DejaVu Sans Mono',consolas,'Courier New',monospace\"><span style=\"color: #c0c0c0; text-decoration-color: #c0c0c0; background-color: #000000\"> in children with </span></pre>\n"
            ]
          },
          "metadata": {}
        },
        {
          "output_type": "display_data",
          "data": {
            "text/plain": [
              "\u001b[1;37;48;2;42;163;154mattention-deficit/hyperactivity disorder\u001b[0m"
            ],
            "text/html": [
              "<pre style=\"white-space:pre;overflow-x:auto;line-height:normal;font-family:Menlo,'DejaVu Sans Mono',consolas,'Courier New',monospace\"><span style=\"color: #c0c0c0; text-decoration-color: #c0c0c0; background-color: #2aa39a; font-weight: bold\">attention-deficit/hyperactivity disorder</span></pre>\n"
            ]
          },
          "metadata": {}
        },
        {
          "output_type": "display_data",
          "data": {
            "text/plain": [
              "\u001b[37;40m whose disturbance in mood is characterized by irritability rather than by \u001b[0m"
            ],
            "text/html": [
              "<pre style=\"white-space:pre;overflow-x:auto;line-height:normal;font-family:Menlo,'DejaVu Sans Mono',consolas,'Courier New',monospace\"><span style=\"color: #c0c0c0; text-decoration-color: #c0c0c0; background-color: #000000\"> whose disturbance in mood is characterized by irritability rather than by </span></pre>\n"
            ]
          },
          "metadata": {}
        },
        {
          "output_type": "display_data",
          "data": {
            "text/plain": [
              "\u001b[1;37;48;2;10;24;116msadness\u001b[0m"
            ],
            "text/html": [
              "<pre style=\"white-space:pre;overflow-x:auto;line-height:normal;font-family:Menlo,'DejaVu Sans Mono',consolas,'Courier New',monospace\"><span style=\"color: #c0c0c0; text-decoration-color: #c0c0c0; background-color: #0a1874; font-weight: bold\">sadness</span></pre>\n"
            ]
          },
          "metadata": {}
        },
        {
          "output_type": "display_data",
          "data": {
            "text/plain": [
              "\u001b[37;40m or loss of interest.\u001b[0m\n"
            ],
            "text/html": [
              "<pre style=\"white-space:pre;overflow-x:auto;line-height:normal;font-family:Menlo,'DejaVu Sans Mono',consolas,'Courier New',monospace\"><span style=\"color: #c0c0c0; text-decoration-color: #c0c0c0; background-color: #000000\"> or loss of interest.</span>\n",
              "</pre>\n"
            ]
          },
          "metadata": {}
        },
        {
          "output_type": "display_data",
          "data": {
            "text/plain": [
              "\u001b[1;37;48;2;42;163;154mAdjustment disorder\u001b[0m"
            ],
            "text/html": [
              "<pre style=\"white-space:pre;overflow-x:auto;line-height:normal;font-family:Menlo,'DejaVu Sans Mono',consolas,'Courier New',monospace\"><span style=\"color: #c0c0c0; text-decoration-color: #c0c0c0; background-color: #2aa39a; font-weight: bold\">Adjustment disorder</span></pre>\n"
            ]
          },
          "metadata": {}
        },
        {
          "output_type": "display_data",
          "data": {
            "text/plain": [
              "\u001b[37;40m with \u001b[0m"
            ],
            "text/html": [
              "<pre style=\"white-space:pre;overflow-x:auto;line-height:normal;font-family:Menlo,'DejaVu Sans Mono',consolas,'Courier New',monospace\"><span style=\"color: #c0c0c0; text-decoration-color: #c0c0c0; background-color: #000000\"> with </span></pre>\n"
            ]
          },
          "metadata": {}
        },
        {
          "output_type": "display_data",
          "data": {
            "text/plain": [
              "\u001b[1;37;48;2;10;24;116mdepressed mood\u001b[0m"
            ],
            "text/html": [
              "<pre style=\"white-space:pre;overflow-x:auto;line-height:normal;font-family:Menlo,'DejaVu Sans Mono',consolas,'Courier New',monospace\"><span style=\"color: #c0c0c0; text-decoration-color: #c0c0c0; background-color: #0a1874; font-weight: bold\">depressed mood</span></pre>\n"
            ]
          },
          "metadata": {}
        },
        {
          "output_type": "display_data",
          "data": {
            "text/plain": [
              "\u001b[37;40m. A \u001b[0m"
            ],
            "text/html": [
              "<pre style=\"white-space:pre;overflow-x:auto;line-height:normal;font-family:Menlo,'DejaVu Sans Mono',consolas,'Courier New',monospace\"><span style=\"color: #c0c0c0; text-decoration-color: #c0c0c0; background-color: #000000\">. A </span></pre>\n"
            ]
          },
          "metadata": {}
        },
        {
          "output_type": "display_data",
          "data": {
            "text/plain": [
              "\u001b[1;37;48;2;42;163;154mmajor depressive episode\u001b[0m"
            ],
            "text/html": [
              "<pre style=\"white-space:pre;overflow-x:auto;line-height:normal;font-family:Menlo,'DejaVu Sans Mono',consolas,'Courier New',monospace\"><span style=\"color: #c0c0c0; text-decoration-color: #c0c0c0; background-color: #2aa39a; font-weight: bold\">major depressive episode</span></pre>\n"
            ]
          },
          "metadata": {}
        },
        {
          "output_type": "display_data",
          "data": {
            "text/plain": [
              "\u001b[37;40m that occurs in response to a psychosocial stressor is distinguished from \u001b[0m"
            ],
            "text/html": [
              "<pre style=\"white-space:pre;overflow-x:auto;line-height:normal;font-family:Menlo,'DejaVu Sans Mono',consolas,'Courier New',monospace\"><span style=\"color: #c0c0c0; text-decoration-color: #c0c0c0; background-color: #000000\"> that occurs in response to a psychosocial stressor is distinguished from </span></pre>\n"
            ]
          },
          "metadata": {}
        },
        {
          "output_type": "display_data",
          "data": {
            "text/plain": [
              "\u001b[1;37;48;2;42;163;154madjustment disorder\u001b[0m"
            ],
            "text/html": [
              "<pre style=\"white-space:pre;overflow-x:auto;line-height:normal;font-family:Menlo,'DejaVu Sans Mono',consolas,'Courier New',monospace\"><span style=\"color: #c0c0c0; text-decoration-color: #c0c0c0; background-color: #2aa39a; font-weight: bold\">adjustment disorder</span></pre>\n"
            ]
          },
          "metadata": {}
        },
        {
          "output_type": "display_data",
          "data": {
            "text/plain": [
              "\u001b[37;40m with \u001b[0m"
            ],
            "text/html": [
              "<pre style=\"white-space:pre;overflow-x:auto;line-height:normal;font-family:Menlo,'DejaVu Sans Mono',consolas,'Courier New',monospace\"><span style=\"color: #c0c0c0; text-decoration-color: #c0c0c0; background-color: #000000\"> with </span></pre>\n"
            ]
          },
          "metadata": {}
        },
        {
          "output_type": "display_data",
          "data": {
            "text/plain": [
              "\u001b[1;37;48;2;10;24;116mdepressed mood\u001b[0m"
            ],
            "text/html": [
              "<pre style=\"white-space:pre;overflow-x:auto;line-height:normal;font-family:Menlo,'DejaVu Sans Mono',consolas,'Courier New',monospace\"><span style=\"color: #c0c0c0; text-decoration-color: #c0c0c0; background-color: #0a1874; font-weight: bold\">depressed mood</span></pre>\n"
            ]
          },
          "metadata": {}
        },
        {
          "output_type": "display_data",
          "data": {
            "text/plain": [
              "\u001b[37;40m by the fact that the full criteria for a \u001b[0m"
            ],
            "text/html": [
              "<pre style=\"white-space:pre;overflow-x:auto;line-height:normal;font-family:Menlo,'DejaVu Sans Mono',consolas,'Courier New',monospace\"><span style=\"color: #c0c0c0; text-decoration-color: #c0c0c0; background-color: #000000\"> by the fact that the full criteria for a </span></pre>\n"
            ]
          },
          "metadata": {}
        },
        {
          "output_type": "display_data",
          "data": {
            "text/plain": [
              "\u001b[1;37;48;2;42;163;154mmajor depressive episode\u001b[0m"
            ],
            "text/html": [
              "<pre style=\"white-space:pre;overflow-x:auto;line-height:normal;font-family:Menlo,'DejaVu Sans Mono',consolas,'Courier New',monospace\"><span style=\"color: #c0c0c0; text-decoration-color: #c0c0c0; background-color: #2aa39a; font-weight: bold\">major depressive episode</span></pre>\n"
            ]
          },
          "metadata": {}
        },
        {
          "output_type": "display_data",
          "data": {
            "text/plain": [
              "\u001b[37;40m are not met in \u001b[0m"
            ],
            "text/html": [
              "<pre style=\"white-space:pre;overflow-x:auto;line-height:normal;font-family:Menlo,'DejaVu Sans Mono',consolas,'Courier New',monospace\"><span style=\"color: #c0c0c0; text-decoration-color: #c0c0c0; background-color: #000000\"> are not met in </span></pre>\n"
            ]
          },
          "metadata": {}
        },
        {
          "output_type": "display_data",
          "data": {
            "text/plain": [
              "\u001b[1;37;48;2;42;163;154madjustment disorder\u001b[0m"
            ],
            "text/html": [
              "<pre style=\"white-space:pre;overflow-x:auto;line-height:normal;font-family:Menlo,'DejaVu Sans Mono',consolas,'Courier New',monospace\"><span style=\"color: #c0c0c0; text-decoration-color: #c0c0c0; background-color: #2aa39a; font-weight: bold\">adjustment disorder</span></pre>\n"
            ]
          },
          "metadata": {}
        },
        {
          "output_type": "display_data",
          "data": {
            "text/plain": [
              "\u001b[37;40m. \u001b[0m\n"
            ],
            "text/html": [
              "<pre style=\"white-space:pre;overflow-x:auto;line-height:normal;font-family:Menlo,'DejaVu Sans Mono',consolas,'Courier New',monospace\"><span style=\"color: #c0c0c0; text-decoration-color: #c0c0c0; background-color: #000000\">. </span>\n",
              "</pre>\n"
            ]
          },
          "metadata": {}
        },
        {
          "output_type": "display_data",
          "data": {
            "text/plain": [
              "\u001b[1;37;48;2;10;24;116mSadness\u001b[0m"
            ],
            "text/html": [
              "<pre style=\"white-space:pre;overflow-x:auto;line-height:normal;font-family:Menlo,'DejaVu Sans Mono',consolas,'Courier New',monospace\"><span style=\"color: #c0c0c0; text-decoration-color: #c0c0c0; background-color: #0a1874; font-weight: bold\">Sadness</span></pre>\n"
            ]
          },
          "metadata": {}
        },
        {
          "output_type": "display_data",
          "data": {
            "text/plain": [
              "\u001b[37;40m. Finally, periods of \u001b[0m"
            ],
            "text/html": [
              "<pre style=\"white-space:pre;overflow-x:auto;line-height:normal;font-family:Menlo,'DejaVu Sans Mono',consolas,'Courier New',monospace\"><span style=\"color: #c0c0c0; text-decoration-color: #c0c0c0; background-color: #000000\">. Finally, periods of </span></pre>\n"
            ]
          },
          "metadata": {}
        },
        {
          "output_type": "display_data",
          "data": {
            "text/plain": [
              "\u001b[1;37;48;2;10;24;116msadness\u001b[0m"
            ],
            "text/html": [
              "<pre style=\"white-space:pre;overflow-x:auto;line-height:normal;font-family:Menlo,'DejaVu Sans Mono',consolas,'Courier New',monospace\"><span style=\"color: #c0c0c0; text-decoration-color: #c0c0c0; background-color: #0a1874; font-weight: bold\">sadness</span></pre>\n"
            ]
          },
          "metadata": {}
        },
        {
          "output_type": "display_data",
          "data": {
            "text/plain": [
              "\u001b[37;40m are inherent aspects of the human experience. These periods should not be diagnosed as a \u001b[0m"
            ],
            "text/html": [
              "<pre style=\"white-space:pre;overflow-x:auto;line-height:normal;font-family:Menlo,'DejaVu Sans Mono',consolas,'Courier New',monospace\"><span style=\"color: #c0c0c0; text-decoration-color: #c0c0c0; background-color: #000000\"> are inherent aspects of the human experience. These periods should not be diagnosed as a </span></pre>\n"
            ]
          },
          "metadata": {}
        },
        {
          "output_type": "display_data",
          "data": {
            "text/plain": [
              "\u001b[1;37;48;2;42;163;154mmajor depressive episode\u001b[0m"
            ],
            "text/html": [
              "<pre style=\"white-space:pre;overflow-x:auto;line-height:normal;font-family:Menlo,'DejaVu Sans Mono',consolas,'Courier New',monospace\"><span style=\"color: #c0c0c0; text-decoration-color: #c0c0c0; background-color: #2aa39a; font-weight: bold\">major depressive episode</span></pre>\n"
            ]
          },
          "metadata": {}
        },
        {
          "output_type": "display_data",
          "data": {
            "text/plain": [
              "\u001b[37;40m unless criteria are met for severity \u001b[0m\u001b[1;37;40m(\u001b[0m\u001b[37;40mi.e., five out of nine symptoms\u001b[0m\u001b[1;37;40m)\u001b[0m\u001b[37;40m, duration \u001b[0m\u001b[1;37;40m(\u001b[0m\u001b[37;40mi.e., most of the day, nearly \u001b[0m\n",
              "\u001b[37;40mevery day for at least \u001b[0m\u001b[1;36;40m2\u001b[0m\u001b[37;40m weeks\u001b[0m\u001b[1;37;40m)\u001b[0m\u001b[37;40m, and clinically significant distress or impairment. The diagnosis other specified \u001b[0m\n",
              "\u001b[37;40mdepressive disorder may be appropriate for presentations of depressed mood with clinically significant impairment \u001b[0m\n",
              "\u001b[37;40mthat do not meet criteria for duration or severity\u001b[0m\n",
              "\n"
            ],
            "text/html": [
              "<pre style=\"white-space:pre;overflow-x:auto;line-height:normal;font-family:Menlo,'DejaVu Sans Mono',consolas,'Courier New',monospace\"><span style=\"color: #c0c0c0; text-decoration-color: #c0c0c0; background-color: #000000\"> unless criteria are met for severity </span><span style=\"color: #c0c0c0; text-decoration-color: #c0c0c0; background-color: #000000; font-weight: bold\">(</span><span style=\"color: #c0c0c0; text-decoration-color: #c0c0c0; background-color: #000000\">i.e., five out of nine symptoms</span><span style=\"color: #c0c0c0; text-decoration-color: #c0c0c0; background-color: #000000; font-weight: bold\">)</span><span style=\"color: #c0c0c0; text-decoration-color: #c0c0c0; background-color: #000000\">, duration </span><span style=\"color: #c0c0c0; text-decoration-color: #c0c0c0; background-color: #000000; font-weight: bold\">(</span><span style=\"color: #c0c0c0; text-decoration-color: #c0c0c0; background-color: #000000\">i.e., most of the day, nearly </span>\n",
              "<span style=\"color: #c0c0c0; text-decoration-color: #c0c0c0; background-color: #000000\">every day for at least </span><span style=\"color: #008080; text-decoration-color: #008080; background-color: #000000; font-weight: bold\">2</span><span style=\"color: #c0c0c0; text-decoration-color: #c0c0c0; background-color: #000000\"> weeks</span><span style=\"color: #c0c0c0; text-decoration-color: #c0c0c0; background-color: #000000; font-weight: bold\">)</span><span style=\"color: #c0c0c0; text-decoration-color: #c0c0c0; background-color: #000000\">, and clinically significant distress or impairment. The diagnosis other specified </span>\n",
              "<span style=\"color: #c0c0c0; text-decoration-color: #c0c0c0; background-color: #000000\">depressive disorder may be appropriate for presentations of depressed mood with clinically significant impairment </span>\n",
              "<span style=\"color: #c0c0c0; text-decoration-color: #c0c0c0; background-color: #000000\">that do not meet criteria for duration or severity</span>\n",
              "\n",
              "</pre>\n"
            ]
          },
          "metadata": {}
        },
        {
          "output_type": "display_data",
          "data": {
            "text/plain": [
              "\n",
              "Time taken: \u001b[1;36m8.95\u001b[0m seconds\n"
            ],
            "text/html": [
              "<pre style=\"white-space:pre;overflow-x:auto;line-height:normal;font-family:Menlo,'DejaVu Sans Mono',consolas,'Courier New',monospace\">\n",
              "Time taken: <span style=\"color: #008080; text-decoration-color: #008080; font-weight: bold\">8.95</span> seconds\n",
              "</pre>\n"
            ]
          },
          "metadata": {}
        }
      ]
    }
  ],
  "metadata": {
    "colab": {
      "provenance": []
    },
    "kernelspec": {
      "display_name": "Python 3",
      "name": "python3"
    },
    "language_info": {
      "name": "python"
    }
  },
  "nbformat": 4,
  "nbformat_minor": 0
}