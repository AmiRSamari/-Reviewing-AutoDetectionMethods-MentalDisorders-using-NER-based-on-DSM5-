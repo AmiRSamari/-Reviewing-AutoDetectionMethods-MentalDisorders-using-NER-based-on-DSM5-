{
  "nbformat": 4,
  "nbformat_minor": 0,
  "metadata": {
    "colab": {
      "provenance": []
    },
    "kernelspec": {
      "name": "python3",
      "display_name": "Python 3"
    },
    "language_info": {
      "name": "python"
    }
  },
  "cells": [
    {
      "cell_type": "code",
      "execution_count": null,
      "metadata": {
        "id": "SxJRE7G7mdH8"
      },
      "outputs": [],
      "source": [
        "!pip install groq"
      ]
    },
    {
      "cell_type": "code",
      "source": [
        "import os\n",
        "from google.colab import userdata\n",
        "\n",
        "GROQ_API_TOKEN = userdata.get('GROQ_API_KEY')\n",
        "\n",
        "os.environ[\"GROQ_API_KEY\"] = GROQ_API_TOKEN"
      ],
      "metadata": {
        "id": "4MBm6wtHmtbl"
      },
      "execution_count": 4,
      "outputs": []
    },
    {
      "cell_type": "code",
      "source": [
        "from groq import Groq\n",
        "\n",
        "client = Groq(\n",
        "    api_key=os.environ.get(\"GROQ_API_KEY\"),\n",
        ")\n",
        "\n",
        "def llama3_70b(prompt, temperature=0.0, input_print=True):\n",
        "  chat_completion = client.chat.completions.create(\n",
        "      messages=[\n",
        "          {\n",
        "              \"role\": \"system\", \"content\": SYSTEM_PROMPT,\n",
        "              \"role\": \"user\", \"content\": USER_PROMPT_1,\n",
        "              \"role\": \"assistant\", \"content\": ASSISTANT_PROMPT_1,\n",
        "              \"role\": \"user\", \"content\": check_prompt,\n",
        "              \"role\": \"user\", \"content\": final_prompt\n",
        "          }\n",
        "      ],\n",
        "      model=\"llama3-70b-8192\",\n",
        "      temperature=temperature,\n",
        "  )\n",
        "\n",
        "  return (chat_completion.choices[0].message.content)"
      ],
      "metadata": {
        "id": "rxZfd_wMnGqH"
      },
      "execution_count": 5,
      "outputs": []
    },
    {
      "cell_type": "code",
      "source": [
        "SYSTEM_PROMPT = \"\"\"You are a smart and intelligent Named Entity Recognition (NER) system.\n",
        "                    I will provide you the definition of the entities you need to extract and the sentence\n",
        "                    from which you need to extract the entities and the output in given format with examples.\n",
        "\"\"\"\n",
        "\n",
        "USER_PROMPT_1 = \"Are you clear about your role?\"\n",
        "\n",
        "ASSISTANT_PROMPT_1 = \"Sure, I'm ready to help you with your NER task. Please provide me with the necessary information to get started.\"\n",
        "\n",
        "PROMPT = (\n",
        "    \"Entity Definition:\\n\"\n",
        "  \"1. SYMPTOM: A subjective experience or complaint reported by a patient, which may be indicative of an underlying condition or disorder. Symptoms can include physical sensations, emotional states, or behavioral changes.\\n\"\n",
        "  \"2. DISORDER: A disease, condition, or abnormality affecting an individual's health or well-being. This can include chronic and acute conditions, infections, and diseases. \\n\"\n",
        "  \"\\n\"\n",
        "\n",
        "  \"Output Format:\\n\"\n",
        "  \"{{'DISORDER': [list of entities present], 'SYMPTOM': [list of entities present] \\n\"\n",
        "  \"If no entities are presented in any categories keep it None. \\n\"\n",
        "  \"\\n\"\n",
        "  \"Examples:\\n\"\n",
        "  \"\\n\"\n",
        "  \"1. A 35-year-old woman with a history of depression and anxiety symptoms, who had been experiencing suicidal ideation, was hospitalized at St. Mary's Hospital on January 1st, 2020. The doctor prescribed her medication to treat the post-traumatic stress disorder she developed after a car accident that occurred 5 years ago. The patient had been experiencing symptoms of attention deficit hyperactivity disorder since childhood and was previously diagnosed with borderline personality disorder.\\n\"\n",
        "  \"Output: {{'SYMPTOM': ['suicidal ideation', 'anxiety symptoms', 'attention deficit hyperactivity disorder'], 'DISORDER': ['depression', 'anxiety symptoms', 'post-traumatic stress disorder', 'borderline personality disorder']}} \\n\"\n",
        "  \"\\n\"\n",
        "\n",
        "  \"2. A 45-year-old man with a history of major depressive disorder, who had been experiencing feelings of sadness since last month, was hospitalized at a psychiatric hospital on April 10th, 2020. The doctor prescribed him medication to treat the anxiety disorder he developed after losing his job, which occurred 6 months ago. The patient had been experiencing insomnia and irritability since childhood and was previously diagnosed with borderline personality disorder. He is also taking medication for attention deficit hyperactivity disorder (ADHD), which he has been experiencing since age 10. \\n\"\n",
        "  \"Output: {{'SYMPTOM': ['feelings of sadness symptoms', 'insomnia', 'irritability'], 'DISORDER': ['major depressive disorder', 'anxiety disorder', 'borderline personality disorder']}} \\n\"\n",
        "  \"\\n\"\n",
        "\n",
        "  \"3. A 32-year-old woman with a history of post-traumatic stress, who had been experiencing flashbacks since yesterday, was hospitalized at a trauma center on May 25th, 2021. The doctor prescribed her medication to treat the bipolar disorder she developed after a car accident, which occurred 5 years ago. The patient had been experiencing sleep paralysis and hypervigilance since childhood and was previously diagnosed with autism spectrum disorder (ADHD), which she has been experiencing since age 3. She is also taking medication for obsessive-compulsive disorder (OCD), which she started experiencing at age 15.\\n\"\n",
        "  \"Output: {{'SYMPTOM': ['flashbacks symptoms', 'sleep paralysis', 'hypervigilance'], 'DISORDER': ['post-traumatic stress disorder', 'bipolar disorder']}} \\n\"\n",
        "  \"\\n\"\n",
        ")"
      ],
      "metadata": {
        "id": "B6evd0nVnPwc"
      },
      "execution_count": 29,
      "outputs": []
    },
    {
      "cell_type": "code",
      "source": [
        "#check_prompt = SYSTEM_PROMPT+\"'''\"+USER_PROMPT_1+\"'''\"+ASSISTANT_PROMPT_1\n",
        "\n",
        "#output = llama3_70b(check_prompt)\n",
        "#print(output)"
      ],
      "metadata": {
        "id": "jIIFlkWpVX9S"
      },
      "execution_count": 30,
      "outputs": []
    },
    {
      "cell_type": "code",
      "source": [
        "text = \"\"\"\n",
        "Manic episodes with irritable mood or mixed episodes. Major depressive episodes with prominent irritable mood may be difficult to distinguish from manic episodes with irritable mood or from mixed episodes. This distinction requires a careful clinical evaluation of the presence of manic symptoms.\n",
        "Mood disorder due to another medical condition. A major depressive episode is the appropriate diagnosis if the mood disturbance is not judged, based on individual history, physical examination, and laboratory findings, to be the direct pathophysiological consequence of a specific medical condition (e.g., multiple sclerosis, stroke, hypothyroidism).\n",
        "Substance/medication-induced depressive or bipolar disorder. This disorder is distinguished from major depressive disorder by the fact that a substance (e.g., a drug of abuse, a medication, a toxin) appears to be etiologically related to the mood disturbance. For example, depressed mood that occurs only in the context of withdrawal from cocaine would be diagnosed as cocaine-induced depressive disorder.\n",
        "Attention-deficit/hyperactivity disorder. Distractibility and low frustration tolerance can occur in both attention-deficit/ hyperactivity disorder and a major depressive episode; if the criteria are met for both, attention-deficit/hyperactivity disorder may be diagnosed in addition to the mood disorder. However, the clinician must be cautious not to overdiagnose a major depressive episode in children with attention-deficit/hyperactivity disorder whose disturbance in mood is characterized by irritability rather than by sadness or loss of interest.\n",
        "Adjustment disorder with depressed mood. A major depressive episode that occurs in response to a psychosocial stressor is distinguished from adjustment disorder with depressed mood by the fact that the full criteria for a major depressive episode are not met in adjustment disorder.\n",
        "Sadness. Finally, periods of sadness are inherent aspects of the human experience. These periods should not be diagnosed as a major depressive episode unless criteria are met for severity (i.e., five out of nine symptoms), duration (i.e., most of the day, nearly every day for at least 2 weeks), and clinically significant distress or impairment. The diagnosis other specified depressive disorder may be appropriate for presentations of depressed mood with clinically significant impairment that do not meet criteria for duration or severity\n",
        "\n",
        "\"\"\""
      ],
      "metadata": {
        "id": "Jxon3IOYUsgO",
        "outputId": "cd713cf5-e002-4271-f28d-e79bbdbf7aa8",
        "colab": {
          "base_uri": "https://localhost:8080/"
        }
      },
      "execution_count": 36,
      "outputs": [
        {
          "output_type": "stream",
          "name": "stdout",
          "text": [
            "Here is the output for the given text:\n",
            "\n",
            "{{'SYMPTOM': ['manic episodes', 'irritable mood', 'mixed episodes', 'flashbacks', 'sleep paralysis', 'hypervigilance', 'distractibility', 'low frustration tolerance', 'irritability', 'sadness'], 'DISORDER': ['major depressive disorder', 'bipolar disorder', 'post-traumatic stress disorder', 'mood disorder', 'substance/medication-induced depressive or bipolar disorder', 'attention-deficit/hyperactivity disorder', 'adjustment disorder with depressed mood', 'other specified depressive disorder', 'autism spectrum disorder', 'obsessive-compulsive disorder']}}\n",
            "\n",
            "Let me know if you need any further assistance!\n"
          ]
        }
      ]
    },
    {
      "cell_type": "code",
      "source": [
        "final_prompt = PROMPT+\"'''\"+text+\"'''\"\n",
        "\n",
        "output = llama3_70b(final_prompt)\n",
        "print(output)"
      ],
      "metadata": {
        "id": "MeXXOLNCz1jw"
      },
      "execution_count": null,
      "outputs": []
    }
  ]
}